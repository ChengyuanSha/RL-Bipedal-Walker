{
 "cells": [
  {
   "cell_type": "code",
   "execution_count": 1,
   "metadata": {},
   "outputs": [],
   "source": [
    "import gym\n",
    "import torch.nn.functional as F"
   ]
  },
  {
   "cell_type": "code",
   "execution_count": 2,
   "metadata": {},
   "outputs": [],
   "source": [
    "from TD3 import TD3\n",
    "from utils import train"
   ]
  },
  {
   "cell_type": "code",
   "execution_count": 3,
   "metadata": {},
   "outputs": [
    {
     "name": "stdout",
     "output_type": "stream",
     "text": [
      "Ep. 1, Timestep 80,  Ep.Timesteps 80, Avg.Score: -103.67 \n",
      "Ep. 2, Timestep 1680,  Ep.Timesteps 1600, Avg.Score: -93.63 \n",
      "Ep. 3, Timestep 3280,  Ep.Timesteps 1600, Avg.Score: -88.96 \n",
      "Ep. 4, Timestep 3348,  Ep.Timesteps 68, Avg.Score: -91.20 \n",
      "Ep. 5, Timestep 4948,  Ep.Timesteps 1600, Avg.Score: -91.60 \n",
      "Ep. 6, Timestep 5018,  Ep.Timesteps 70, Avg.Score: -93.55 \n",
      "Ep. 7, Timestep 6618,  Ep.Timesteps 1600, Avg.Score: -91.85 \n",
      "Ep. 8, Timestep 8218,  Ep.Timesteps 1600, Avg.Score: -91.38 \n"
     ]
    }
   ],
   "source": [
    "env = gym.make('BipedalWalker-v3')\n",
    "state = env.reset()\n",
    "state_dim = env.observation_space.shape[0]\n",
    "action_dim = env.action_space.shape[0] \n",
    "max_action = float(env.action_space.high[0])\n",
    "\n",
    "agent = TD3(state_dim, action_dim, max_action)\n",
    "scores, avg_scores = train(env,agent)"
   ]
  },
  {
   "cell_type": "code",
   "execution_count": null,
   "metadata": {},
   "outputs": [],
   "source": []
  }
 ],
 "metadata": {
  "interpreter": {
   "hash": "26aced9087ca3252615d7b2b68d663dbfc8bde838324aae8750182dc55b67b79"
  },
  "kernelspec": {
   "display_name": "Python 3.7.3",
   "language": "python",
   "name": "python3"
  },
  "language_info": {
   "codemirror_mode": {
    "name": "ipython",
    "version": 3
   },
   "file_extension": ".py",
   "mimetype": "text/x-python",
   "name": "python",
   "nbconvert_exporter": "python",
   "pygments_lexer": "ipython3",
   "version": "3.7.3"
  },
  "orig_nbformat": 4
 },
 "nbformat": 4,
 "nbformat_minor": 2
}